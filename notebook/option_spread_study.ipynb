{
 "cells": [
  {
   "cell_type": "markdown",
   "id": "7687a959",
   "metadata": {},
   "source": [
    "## Study how option spread across strikes changes on volatile day"
   ]
  },
  {
   "cell_type": "code",
   "execution_count": 12,
   "id": "103a52f0",
   "metadata": {},
   "outputs": [],
   "source": [
    "import pandas as pd\n",
    "\n",
    "df = pd.read_csv(\n",
    "    \"/Users/matthewchuang/Documents/GitHub/optionv1/data/OPRA-20250930-FLBREPPKMB/opra-pillar-20250320.ohlcv-1d.csv\"\n",
    ")"
   ]
  },
  {
   "cell_type": "code",
   "execution_count": null,
   "id": "734b0830",
   "metadata": {},
   "outputs": [],
   "source": []
  }
 ],
 "metadata": {
  "kernelspec": {
   "display_name": "optionv1 (3.10.18)",
   "language": "python",
   "name": "python3"
  },
  "language_info": {
   "codemirror_mode": {
    "name": "ipython",
    "version": 3
   },
   "file_extension": ".py",
   "mimetype": "text/x-python",
   "name": "python",
   "nbconvert_exporter": "python",
   "pygments_lexer": "ipython3",
   "version": "3.10.18"
  }
 },
 "nbformat": 4,
 "nbformat_minor": 5
}
